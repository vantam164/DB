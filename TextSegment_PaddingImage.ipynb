{
 "cells": [
  {
   "cell_type": "code",
   "execution_count": null,
   "metadata": {},
   "outputs": [],
   "source": [
    "%reload_ext autoreload\n",
    "%autoreload 2\n",
    "%matplotlib inline\n",
    "\n",
    "import warnings\n",
    "warnings.filterwarnings('ignore')"
   ]
  },
  {
   "cell_type": "code",
   "execution_count": null,
   "metadata": {},
   "outputs": [],
   "source": [
    "from fastai.vision import *\n",
    "from fastai.callbacks.hooks import *\n",
    "from fastai.utils.mem import *"
   ]
  },
  {
   "cell_type": "code",
   "execution_count": null,
   "metadata": {},
   "outputs": [],
   "source": [
    "path_data = Path('/tmp/vtdata/')"
   ]
  },
  {
   "cell_type": "code",
   "execution_count": null,
   "metadata": {},
   "outputs": [],
   "source": [
    "import glob\n",
    "import os\n",
    "import shutil \n",
    "from fastai.vision import *\n",
    "from fastai.metrics import accuracy\n",
    "from fastai.basic_data import *\n",
    "\n",
    "from pathlib import Path\n",
    "\n",
    "from matplotlib import pyplot as plt\n",
    "from PIL import Image, ImageOps\n",
    "\n",
    "\n",
    "def resize_one(fn, i, pth, size, path, padding_color=(255, 255, 255)):\n",
    "    if os.path.getsize(fn) == 0:\n",
    "        return\n",
    "    dest = pth/fn.relative_to(path)\n",
    "    if dest.exists():\n",
    "        return\n",
    "    dest.parent.mkdir(parents=True, exist_ok=True)\n",
    "    target = size\n",
    "    im =  PIL.Image.open(fn)\n",
    "    if im is None:\n",
    "        return\n",
    "    width, height = im.size\n",
    "    if width < 10 or height < 10:\n",
    "        return\n",
    "    ratio = 1\n",
    "    if width > height:\n",
    "        ratio = target/width\n",
    "        targ_sz = (target, int(height*ratio))\n",
    "        if int(height*ratio) <= 0 :\n",
    "            return\n",
    "        im_resize = im.resize(targ_sz, resample=PIL.Image.BILINEAR)\n",
    "    else:\n",
    "        ratio = target/height\n",
    "        targ_sz = (int(width*ratio), target)\n",
    "        if int(width*ratio) <= 0 :\n",
    "            return\n",
    "        im_resize = im.resize(targ_sz, resample=PIL.Image.BILINEAR)\n",
    "        \n",
    "    new_size = im_resize.size\n",
    "    new_im = Image.new(\"RGB\", (target, target), padding_color)\n",
    "    new_im.paste(im_resize, ((target-new_size[0])//2,\n",
    "                    (target-new_size[1])//2))\n",
    "    new_im.save(dest, quality=100)"
   ]
  },
  {
   "cell_type": "code",
   "execution_count": null,
   "metadata": {},
   "outputs": [],
   "source": [
    "# create smaller image sets the first time this nb is run\n",
    "! rm -rf /tmp/resize_pad\n",
    "SZ = 1024\n",
    "path_resize = Path(\"/tmp/resize_pad\")\n",
    "sets = [(path_resize, SZ)]\n",
    "il = ImageList.from_folder(path_data)\n",
    "for p,size in sets:\n",
    "    os.makedirs(p, exist_ok=True)\n",
    "    print(f\"resizing to {size} into {p}\")\n",
    "    parallel(partial(resize_one, pth=p, size=size, path=path_data), il.items)"
   ]
  },
  {
   "cell_type": "code",
   "execution_count": null,
   "metadata": {},
   "outputs": [],
   "source": [
    "import glob \n",
    "import os\n",
    "\n",
    "path_data = Path('/tmp/vtdata/')\n",
    "path_images = glob.glob(f\"{path_data}/**/*.jpg\", recursive=True) + glob.glob(f\"{path_data}/**/*.png\", recursive=True) + glob.glob(f\"{path_data}/**/*.JPG\", recursive=True) + glob.glob(f\"{path_data}/**/*.PNG\", recursive=True)\n",
    "path_labels = glob.glob(f\"{path_data}/**/*.json\", recursive=True)\n",
    "\n",
    "dict_label = {}\n",
    "for img_path in path_images:\n",
    "    try:\n",
    "        label_path = img_path.replace('images', 'labels')\n",
    "        label_path = label_path.replace('png', 'json')\n",
    "        dict_label[img_path] = label_path\n",
    "    except Exception as e:\n",
    "        pass"
   ]
  },
  {
   "cell_type": "code",
   "execution_count": null,
   "metadata": {},
   "outputs": [],
   "source": [
    "!  rm -rf '/tmp/mask_org_labels'; mkdir '/tmp/mask_org_labels'\n",
    "\n",
    "import PIL\n",
    "import json\n",
    "import numpy as np\n",
    "import os\n",
    "from matplotlib.pyplot import imshow\n",
    "\n",
    "\n",
    "def create_label_images(dict_label):\n",
    "    for img_path, lbl_path in dict_label.items():\n",
    "        try:\n",
    "            \n",
    "            img = PIL.Image.open(img_path)\n",
    "            with open(lbl_path) as json_file:\n",
    "                label = json.load(json_file)\n",
    "                \n",
    "            size = img.size\n",
    "            \n",
    "            w, h = size\n",
    "            \n",
    "            mask = np.array(PIL.Image.new('L', (w, h)))\n",
    "            regions = label['attributes']['_via_img_metadata']['regions']\n",
    "            ratio = 1\n",
    "            for r in regions:\n",
    "                shape = r['shape_attributes']\n",
    "                x, y, w, h = int(shape['x']/ratio), int(shape['y']/ratio), int(shape['width']/ratio), int(shape['height']/ratio)\n",
    "                mask[y:y+h, x:x+w] = 1\n",
    "                \n",
    "            mask_label_path = img_path.replace(\"/tmp/vtdata\", '/tmp/mask_org_labels')\n",
    "            dir_path = os.path.dirname(mask_label_path)\n",
    "            if not os.path.exists(dir_path):\n",
    "                os.makedirs(dir_path)\n",
    "                \n",
    "            mask = PIL.Image.fromarray(mask, 'L')\n",
    "            mask.save(mask_label_path)\n",
    "        except Exception as e:\n",
    "            import traceback\n",
    "            traceback.print_exc()\n",
    "create_label_images(dict_label)"
   ]
  },
  {
   "cell_type": "code",
   "execution_count": null,
   "metadata": {},
   "outputs": [],
   "source": [
    "! rm -rf /tmp/mask_resize_labels\n",
    "# create smaller image sets the first time this nb is run\n",
    "SZ = 1024\n",
    "path_resize = Path(\"/tmp/mask_resize_labels\")\n",
    "sets = [(path_resize, SZ)]\n",
    "il = ImageList.from_folder(Path('/tmp/mask_org_labels'))\n",
    "for p,size in sets:\n",
    "    os.makedirs(p, exist_ok=True)\n",
    "    print(f\"resizing to {size} into {p}\")\n",
    "    parallel(partial(resize_one, pth=p, size=size, path=Path('/tmp/mask_org_labels'), padding_color=(0,0,0)), il.items)"
   ]
  },
  {
   "cell_type": "code",
   "execution_count": null,
   "metadata": {},
   "outputs": [],
   "source": [
    "from matplotlib.pyplot import imshow\n",
    "%matplotlib inline\n",
    "import cv2\n",
    "\n",
    "imcv = cv2.imread('/tmp/mask_resize_labels/C2_train_3/images/4580.png') * 255\n",
    "imshow(imcv)\n",
    "print(imcv.shape)"
   ]
  },
  {
   "cell_type": "code",
   "execution_count": null,
   "metadata": {},
   "outputs": [],
   "source": [
    "imcv = cv2.imread('/tmp/resize_pad/C2_train_3/images/4580.png') \n",
    "imshow(imcv)\n",
    "print(imcv.shape)"
   ]
  },
  {
   "cell_type": "code",
   "execution_count": null,
   "metadata": {},
   "outputs": [],
   "source": [
    "get_y_fn = lambda x:  str(x).replace(\"/tmp/resize_pad\", '/tmp/mask_resize_labels')\n",
    "src = (SegmentationItemList.from_folder(Path('/tmp/resize_pad'))\n",
    "       .split_by_rand_pct(0.2)\n",
    "       .label_from_func(get_y_fn, classes=['bg', 'vt'])\n",
    "      )"
   ]
  },
  {
   "cell_type": "code",
   "execution_count": null,
   "metadata": {},
   "outputs": [],
   "source": [
    "src_size = np.array([512, 512])\n",
    "print(src_size)"
   ]
  },
  {
   "cell_type": "code",
   "execution_count": null,
   "metadata": {},
   "outputs": [],
   "source": [
    "size = src_size\n",
    "bs = 2\n",
    "data = (src.transform(get_transforms(max_rotate=3), size=size, resize_method=ResizeMethod.SQUISH, tfm_y=True)\n",
    "        .databunch(bs=bs, num_workers=0)).normalize(imagenet_stats)"
   ]
  },
  {
   "cell_type": "code",
   "execution_count": null,
   "metadata": {},
   "outputs": [],
   "source": [
    "data.show_batch(4, figsize=(10,7))"
   ]
  },
  {
   "cell_type": "code",
   "execution_count": null,
   "metadata": {},
   "outputs": [],
   "source": [
    "codes = ['bg', 'vt']\n",
    "name2id = {v:k for k,v in enumerate(codes)}\n",
    "void_code = name2id['bg']\n",
    "print(name2id)\n",
    "def acc_vt(input, target):\n",
    "    target = target.squeeze(1)\n",
    "    mask = target != void_code\n",
    "    return (input.argmax(dim=1)[mask]==target[mask]).float().mean()"
   ]
  },
  {
   "cell_type": "code",
   "execution_count": null,
   "metadata": {},
   "outputs": [],
   "source": [
    "wd=1e-2"
   ]
  },
  {
   "cell_type": "code",
   "execution_count": null,
   "metadata": {},
   "outputs": [],
   "source": [
    "learn = unet_learner(data, models.resnet50, metrics=acc_vt, wd=wd)"
   ]
  },
  {
   "cell_type": "code",
   "execution_count": null,
   "metadata": {
    "scrolled": true
   },
   "outputs": [],
   "source": [
    "lr_find(learn)\n",
    "learn.recorder.plot()"
   ]
  },
  {
   "cell_type": "code",
   "execution_count": null,
   "metadata": {},
   "outputs": [],
   "source": [
    "lr=1e-4\n",
    "learn.fit_one_cycle(5, slice(lr), pct_start=0.9)"
   ]
  },
  {
   "cell_type": "code",
   "execution_count": null,
   "metadata": {},
   "outputs": [],
   "source": [
    "learn.save('stage-1-1');"
   ]
  },
  {
   "cell_type": "code",
   "execution_count": null,
   "metadata": {},
   "outputs": [],
   "source": [
    "learn.show_results(rows=3, figsize=(9,11))"
   ]
  },
  {
   "cell_type": "code",
   "execution_count": null,
   "metadata": {},
   "outputs": [],
   "source": [
    "learn.unfreeze()"
   ]
  },
  {
   "cell_type": "code",
   "execution_count": null,
   "metadata": {},
   "outputs": [],
   "source": [
    "lrs = slice(lr/400,lr/4)"
   ]
  },
  {
   "cell_type": "code",
   "execution_count": null,
   "metadata": {},
   "outputs": [],
   "source": [
    "learn.fit_one_cycle(5, lrs, pct_start=0.8)"
   ]
  },
  {
   "cell_type": "code",
   "execution_count": null,
   "metadata": {},
   "outputs": [],
   "source": [
    "learn.show_results(rows=3, figsize=(9,11))"
   ]
  },
  {
   "cell_type": "code",
   "execution_count": null,
   "metadata": {},
   "outputs": [],
   "source": [
    "learn.save('stage-1');"
   ]
  },
  {
   "cell_type": "code",
   "execution_count": null,
   "metadata": {},
   "outputs": [],
   "source": [
    "learn.destroy()\n",
    "learn=None\n",
    "gc.collect()"
   ]
  },
  {
   "cell_type": "code",
   "execution_count": null,
   "metadata": {},
   "outputs": [],
   "source": [
    "size = np.array([960, 960])\n",
    "bs = 1\n",
    "data = (src.transform(get_transforms(max_rotate=1, max_warp=0, p_affine=1.0), size=size, resize_method=ResizeMethod.SQUISH, tfm_y=True)\n",
    "        .databunch(bs=bs, num_workers=0))"
   ]
  },
  {
   "cell_type": "code",
   "execution_count": null,
   "metadata": {},
   "outputs": [],
   "source": [
    "data.show_batch(3, figsize=(10,7))"
   ]
  },
  {
   "cell_type": "code",
   "execution_count": null,
   "metadata": {},
   "outputs": [],
   "source": [
    "learn = unet_learner(data, models.resnet50, metrics=acc_vt, wd=wd)"
   ]
  },
  {
   "cell_type": "code",
   "execution_count": null,
   "metadata": {},
   "outputs": [],
   "source": [
    "learn.load('stage-1')"
   ]
  },
  {
   "cell_type": "code",
   "execution_count": null,
   "metadata": {},
   "outputs": [],
   "source": [
    "lr_find(learn)\n",
    "learn.recorder.plot()"
   ]
  },
  {
   "cell_type": "code",
   "execution_count": null,
   "metadata": {},
   "outputs": [],
   "source": [
    "lr=1e-6\n",
    "learn.fit_one_cycle(5, slice(lr), pct_start=0.8)"
   ]
  },
  {
   "cell_type": "code",
   "execution_count": null,
   "metadata": {},
   "outputs": [],
   "source": [
    "learn.save('stage-2-1');"
   ]
  },
  {
   "cell_type": "code",
   "execution_count": null,
   "metadata": {},
   "outputs": [],
   "source": [
    "learn.show_results(rows=3, figsize=(9,11))"
   ]
  },
  {
   "cell_type": "code",
   "execution_count": null,
   "metadata": {},
   "outputs": [],
   "source": [
    "learn.load('stage-2-1')"
   ]
  },
  {
   "cell_type": "code",
   "execution_count": null,
   "metadata": {},
   "outputs": [],
   "source": [
    "learn.unfreeze()"
   ]
  },
  {
   "cell_type": "code",
   "execution_count": null,
   "metadata": {},
   "outputs": [],
   "source": [
    "lr=1e-4\n",
    "lrs = slice(1e-6,lr/10)"
   ]
  },
  {
   "cell_type": "code",
   "execution_count": null,
   "metadata": {},
   "outputs": [],
   "source": [
    "learn.fit_one_cycle(5, lrs)"
   ]
  },
  {
   "cell_type": "code",
   "execution_count": null,
   "metadata": {},
   "outputs": [],
   "source": [
    "learn.save('stage-2-2');"
   ]
  },
  {
   "cell_type": "code",
   "execution_count": null,
   "metadata": {},
   "outputs": [],
   "source": [
    "learn.show_results(rows=3, figsize=(9,11))"
   ]
  },
  {
   "cell_type": "code",
   "execution_count": null,
   "metadata": {},
   "outputs": [],
   "source": []
  }
 ],
 "metadata": {
  "kernelspec": {
   "display_name": "Python 3",
   "language": "python",
   "name": "python3"
  },
  "language_info": {
   "codemirror_mode": {
    "name": "ipython",
    "version": 3
   },
   "file_extension": ".py",
   "mimetype": "text/x-python",
   "name": "python",
   "nbconvert_exporter": "python",
   "pygments_lexer": "ipython3",
   "version": "3.6.9"
  }
 },
 "nbformat": 4,
 "nbformat_minor": 4
}
