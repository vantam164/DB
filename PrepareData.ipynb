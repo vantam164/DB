{
 "cells": [
  {
   "cell_type": "code",
   "execution_count": null,
   "metadata": {},
   "outputs": [],
   "source": [
    "import glob\n",
    "import os\n",
    "from pathlib import Path\n",
    "\n",
    "path_data = Path('/tmp/data/')"
   ]
  },
  {
   "cell_type": "code",
   "execution_count": null,
   "metadata": {},
   "outputs": [],
   "source": [
    "import glob \n",
    "import os\n",
    "\n",
    "path_images = glob.glob(f\"{path_data}/**/*.jpg\", recursive=True) + glob.glob(f\"{path_data}/**/*.png\", recursive=True) + glob.glob(f\"{path_data}/**/*.JPG\", recursive=True) + glob.glob(f\"{path_data}/**/*.PNG\", recursive=True)\n",
    "path_labels = glob.glob(f\"{path_data}/**/*.json\", recursive=True)\n",
    "\n",
    "dict_label = {}\n",
    "for img_path in path_images:\n",
    "    try:\n",
    "        label_path = img_path.replace('images', 'labels')\n",
    "        label_path = label_path.replace('png', 'json')\n",
    "        dict_label[img_path] = label_path\n",
    "    except Exception as e:\n",
    "        pass"
   ]
  },
  {
   "cell_type": "code",
   "execution_count": null,
   "metadata": {},
   "outputs": [],
   "source": [
    "dict_label"
   ]
  },
  {
   "cell_type": "code",
   "execution_count": null,
   "metadata": {},
   "outputs": [],
   "source": [
    "!  rm -rf '/tmp/labels'; mkdir '/tmp/labels'\n",
    "\n",
    "import PIL\n",
    "import json\n",
    "import numpy as np\n",
    "import os\n",
    "from matplotlib.pyplot import imshow\n",
    "\n",
    "\n",
    "def create_label_images(dict_label):\n",
    "    for img_path, lbl_path in dict_label.items():\n",
    "        try:\n",
    "            \n",
    "            img = PIL.Image.open(img_path)\n",
    "            with open(lbl_path) as json_file:\n",
    "                label = json.load(json_file)\n",
    "                \n",
    "            \n",
    "            mask_label_path = img_path.replace(\"/tmp/data\", '/tmp/labels') + \".txt\"\n",
    "            dir_path = os.path.dirname(mask_label_path)\n",
    "            if not os.path.exists(dir_path):\n",
    "                os.makedirs(dir_path)\n",
    "            \n",
    "            regions = label['attributes']['_via_img_metadata']['regions']\n",
    "            ratio = 1\n",
    "            \n",
    "            with open(mask_label_path, \"w\") as f:\n",
    "                for r in regions:\n",
    "                    shape = r['shape_attributes']\n",
    "                    x, y, w, h = int(shape['x']/ratio), int(shape['y']/ratio), int(shape['width']/ratio), int(shape['height']/ratio)\n",
    "                    f.write(f\"{x}, {y}, {x+w}, {y}, {x+w}, {y+h}, {x}, {y+h}, 1\\n\")\n",
    "                \n",
    "        except Exception as e:\n",
    "            import traceback\n",
    "            traceback.print_exc()\n",
    "create_label_images(dict_label)"
   ]
  },
  {
   "cell_type": "code",
   "execution_count": null,
   "metadata": {},
   "outputs": [],
   "source": [
    "path_images = glob.glob(f\"{path_data}/**/*.jpg\", recursive=True) + glob.glob(f\"{path_data}/**/*.png\", recursive=True) + glob.glob(f\"{path_data}/**/*.JPG\", recursive=True) + glob.glob(f\"{path_data}/**/*.PNG\", recursive=True)\n",
    "\n",
    "idx = int(0.8*len(path_images))\n",
    "\n",
    "train = path_images[:idx]\n",
    "test = path_images[idx:]\n",
    "\n",
    "with open(\"/tmp/db_vt/vt_trainlist.txt\", \"w\") as f:\n",
    "    for ff in train:\n",
    "        name = ff.replace(\"/tmp/data/\", \"\")\n",
    "        f.write(f\"{name}\\n\")\n",
    "        \n",
    "with open(\"/tmp/db_vt/vt_testlist.txt\", \"w\") as f:\n",
    "    for ff in test:\n",
    "        name = ff.replace(\"/tmp/data/\", \"\")\n",
    "        f.write(f\"{name}\\n\")"
   ]
  },
  {
   "cell_type": "code",
   "execution_count": null,
   "metadata": {},
   "outputs": [],
   "source": []
  }
 ],
 "metadata": {
  "kernelspec": {
   "display_name": "Python 3",
   "language": "python",
   "name": "python3"
  },
  "language_info": {
   "codemirror_mode": {
    "name": "ipython",
    "version": 3
   },
   "file_extension": ".py",
   "mimetype": "text/x-python",
   "name": "python",
   "nbconvert_exporter": "python",
   "pygments_lexer": "ipython3",
   "version": "3.6.9"
  }
 },
 "nbformat": 4,
 "nbformat_minor": 4
}
